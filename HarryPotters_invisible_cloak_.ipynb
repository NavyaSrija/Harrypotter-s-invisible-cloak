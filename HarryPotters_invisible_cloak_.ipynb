{
  "nbformat": 4,
  "nbformat_minor": 0,
  "metadata": {
    "colab": {
      "name": "HarryPotters invisible cloak .ipynb",
      "provenance": [],
      "authorship_tag": "ABX9TyOqe6/4kxrznd0UnFzXlGNb",
      "include_colab_link": true
    },
    "kernelspec": {
      "name": "python3",
      "display_name": "Python 3"
    },
    "language_info": {
      "name": "python"
    }
  },
  "cells": [
    {
      "cell_type": "markdown",
      "metadata": {
        "id": "view-in-github",
        "colab_type": "text"
      },
      "source": [
        "<a href=\"https://colab.research.google.com/github/NavyaSrija/Harrypotter-s-invisible-cloak/blob/main/HarryPotters_invisible_cloak_.ipynb\" target=\"_parent\"><img src=\"https://colab.research.google.com/assets/colab-badge.svg\" alt=\"Open In Colab\"/></a>"
      ]
    },
    {
      "cell_type": "code",
      "metadata": {
        "id": "7rZve3c7aXF4"
      },
      "source": [
        "import cv2\n",
        "import numpy as np\n",
        "import time\n"
      ],
      "execution_count": null,
      "outputs": []
    },
    {
      "cell_type": "code",
      "metadata": {
        "colab": {
          "base_uri": "https://localhost:8080/",
          "height": 229
        },
        "id": "negx0SLebd-Q",
        "outputId": "61a4f17b-c1ca-4966-8d02-4ba781262015"
      },
      "source": [
        "cap = cv2.VideoCapture(0)\n",
        "# allowing the system to sleep for 3 seconds before the webcam fires up !\n",
        "time.sleep(3)\n",
        "count = 0\n",
        "background = 0\n",
        "# Capturing the background in range of 60\n",
        "for i in range(60):\n",
        "    ret, background = cap.read()\n",
        "background = np.flip(background, axis=1)\n",
        "\n",
        "# when the webcam is opened, we are reading the images from the webcam\n",
        "while (cap.isOpened()):\n",
        "    ret, img = cap.read()\n",
        "    if not ret:\n",
        "        break\n",
        "    count += 1\n",
        "    img = np.flip(img, axis=1)\n",
        "\n",
        "    # Converting the color space from BGR to HSV\n",
        "    hsv = cv2.cvtColor(img, cv2.COLOR_BGR2HSV)\n",
        "\n",
        "    # Generating mask to detect red color\n",
        "    lower_red = np.array([0, 120, 50])\n",
        "    upper_red = np.array([10, 255, 255])\n",
        "    mask1 = cv2.inRange(hsv, lower_red, upper_red)\n",
        "\n",
        "    lower_red = np.array([170, 120, 70])\n",
        "    upper_red = np.array([180, 255, 255])\n",
        "    mask2 = cv2.inRange(hsv, lower_red, upper_red)\n",
        "\n",
        "    mask1 = mask1 + mask2\n",
        "\n",
        "    # Refining the mask corresponding to the detected red color\n",
        "    mask1 = cv2.morphologyEx(mask1, cv2.MORPH_OPEN, np.ones((3, 3), np.uint8), iterations=2)\n",
        "    mask1 = cv2.dilate(mask1, np.ones((3, 3), np.uint8), iterations=1)\n",
        "    mask2 = cv2.bitwise_not(mask1)\n",
        "\n",
        "    # Generating the final output\n",
        "    res1 = cv2.bitwise_and(background, background, mask=mask1)\n",
        "    res2 = cv2.bitwise_and(img, img, mask=mask2)\n",
        "    final_output = cv2.addWeighted(res1, 1, res2, 1, 0)\n",
        "\n",
        "    cv2.imshow(\"Harry Potter's invisible secret revealed\", final_output)\n",
        "    k = cv2.waitKey(10)\n",
        "    if k == 27:\n",
        "        break\n",
        "\n",
        "\n",
        "\n",
        "\n",
        "\n",
        "\n",
        "\n",
        "\n",
        "\n"
      ],
      "execution_count": 1,
      "outputs": [
        {
          "output_type": "error",
          "ename": "NameError",
          "evalue": "ignored",
          "traceback": [
            "\u001b[0;31m---------------------------------------------------------------------------\u001b[0m",
            "\u001b[0;31mNameError\u001b[0m                                 Traceback (most recent call last)",
            "\u001b[0;32m<ipython-input-1-34a832141106>\u001b[0m in \u001b[0;36m<module>\u001b[0;34m()\u001b[0m\n\u001b[0;32m----> 1\u001b[0;31m \u001b[0mcap\u001b[0m \u001b[0;34m=\u001b[0m \u001b[0mcv2\u001b[0m\u001b[0;34m.\u001b[0m\u001b[0mVideoCapture\u001b[0m\u001b[0;34m(\u001b[0m\u001b[0;36m0\u001b[0m\u001b[0;34m)\u001b[0m\u001b[0;34m\u001b[0m\u001b[0;34m\u001b[0m\u001b[0m\n\u001b[0m\u001b[1;32m      2\u001b[0m \u001b[0;31m# allowing the system to sleep for 3 seconds before the webcam fires up !\u001b[0m\u001b[0;34m\u001b[0m\u001b[0;34m\u001b[0m\u001b[0;34m\u001b[0m\u001b[0m\n\u001b[1;32m      3\u001b[0m \u001b[0mtime\u001b[0m\u001b[0;34m.\u001b[0m\u001b[0msleep\u001b[0m\u001b[0;34m(\u001b[0m\u001b[0;36m3\u001b[0m\u001b[0;34m)\u001b[0m\u001b[0;34m\u001b[0m\u001b[0;34m\u001b[0m\u001b[0m\n\u001b[1;32m      4\u001b[0m \u001b[0mcount\u001b[0m \u001b[0;34m=\u001b[0m \u001b[0;36m0\u001b[0m\u001b[0;34m\u001b[0m\u001b[0;34m\u001b[0m\u001b[0m\n\u001b[1;32m      5\u001b[0m \u001b[0mbackground\u001b[0m \u001b[0;34m=\u001b[0m \u001b[0;36m0\u001b[0m\u001b[0;34m\u001b[0m\u001b[0;34m\u001b[0m\u001b[0m\n",
            "\u001b[0;31mNameError\u001b[0m: name 'cv2' is not defined"
          ]
        }
      ]
    }
  ]
}